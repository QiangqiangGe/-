{
 "cells": [
  {
   "cell_type": "code",
   "execution_count": 1,
   "metadata": {},
   "outputs": [],
   "source": [
    "import numpy as np \n",
    "import matplotlib.pyplot as plt"
   ]
  },
  {
   "cell_type": "code",
   "execution_count": 99,
   "metadata": {},
   "outputs": [],
   "source": [
    "num = ['(1)','(2)','(3)','(4)','(5)','(6)','(7)','(8)','(9)','(10)']\n",
    "dataArr =  np.array([[1,5],[2,2],[3,1],[4,6],[6,8],[6,5],[7,9],[8,7],[9,8],[10,2]])\n",
    "label = np.array([1,1,-1,-1,1,-1,1,1,-1,-1])"
   ]
  },
  {
   "cell_type": "code",
   "execution_count": 126,
   "metadata": {},
   "outputs": [
    {
     "data": {
      "image/png": "[encoded data removed]",
      "text/plain": [
       "<Figure size 720x720 with 1 Axes>"
      ]
     },
     "metadata": {
      "needs_background": "light"
     },
     "output_type": "display_data"
    }
   ],
   "source": [
    "###绘制散点图\n",
    "plt.figure(figsize=(10,10))\n",
    "idx_1 = np.where(label==1)\n",
    "plt.scatter(dataArr[idx_1,0],dataArr[idx_1,1],c='red',marker='+',label='1',s=150) \n",
    "for i in idx_1[0]:\n",
    "    plt.text(dataArr[i,0],dataArr[i,1],num[i],size = 15)\n",
    "idx_2 = np.where(label==-1)\n",
    "plt.scatter(dataArr[idx_2,0],dataArr[idx_2,1],c='green',marker='o',label='-1',s=150)\n",
    "for i in idx_2[0]:\n",
    "    plt.text(dataArr[i,0],dataArr[i,1],num[i],size = 15)\n",
    "plt.vlines(2.8,-1,11,color='skyblue')\n",
    "plt.xlabel('x1',fontsize=20)\n",
    "plt.ylabel('x2',fontsize=20)\n",
    "plt.xlim((0, 11))\n",
    "plt.ylim((0, 11))\n",
    "plt.xticks(np.arange(0, 11, 1))\n",
    "plt.yticks(np.arange(0, 11, 1))\n",
    "plt.tick_params(axis='both', which='major', labelsize=14)\n",
    "plt.legend(loc = 'upper right',prop={'size': 18})\n",
    "plt.show()"
   ]
  },
  {
   "cell_type": "code",
   "execution_count": 15,
   "metadata": {},
   "outputs": [],
   "source": [
    "def stumpClassify(dataArr,dimen,threshVal,threshIneq):\n",
    "    retArray = np.ones((np.shape(dataArr)[0],1))\n",
    "    if threshIneq == 'lt':\n",
    "        retArray[dataArr[:,dimen] <= threshVal] = -1.0\n",
    "    else:\n",
    "        retArray[dataArr[:,dimen] > threshVal] = -1.0\n",
    "    return retArray"
   ]
  },
  {
   "cell_type": "code",
   "execution_count": 16,
   "metadata": {},
   "outputs": [],
   "source": [
    "def buildStump(dataArr,label,D):\n",
    "    label = label.reshape(label.shape[0],1)\n",
    "    m,n = np.shape(dataArr)    ###m代表样本行数，n代表样本列数\n",
    "    numSteps = 10.0; bestStump = {}; bestClasEst = np.zeros((m,1))\n",
    "    minError = 99999999\n",
    "    ##两列\n",
    "    for i in range(n):\n",
    "        rangeMin = dataArr[:,i].min()\n",
    "        rangeMax = dataArr[:,i].max()\n",
    "        stepSize = (rangeMax-rangeMin)/numSteps  ##学习步长\n",
    "        ##步长\n",
    "        for j in range(-1,int(numSteps)+1):\n",
    "            ##大于或小于当前阈值\n",
    "            for temp in ['lt','gt']:\n",
    "                threshVal = (rangeMin + float(j) * stepSize)   ###遍历所有阈值\n",
    "                predictedVals = stumpClassify(dataArr,i,threshVal,temp)  ##计算阈值下的单层决策树结果\n",
    "                errArr = np.ones((m,1))\n",
    "                errArr[predictedVals == label] = 0  ##统计预测错误的样本\n",
    "                weightedError = sum(D * errArr)  ##统计分类错误的样本权重和\n",
    "                print \"split: dim %d, thresh %.2f, thresh ineqal: %s, the weighted error is %.3f\"%(i,threshVal,temp,weightedError)\n",
    "                if weightedError < minError:\n",
    "                    minError = weightedError\n",
    "                    bestClasEst = predictedVals.copy()\n",
    "                    bestStump['dim'] = i\n",
    "                    bestStump['thresh'] = threshVal\n",
    "                    bestStump['ineq'] = temp\n",
    "    return bestStump,minError,bestClasEst"
   ]
  },
  {
   "cell_type": "code",
   "execution_count": 129,
   "metadata": {},
   "outputs": [
    {
     "name": "stdout",
     "output_type": "stream",
     "text": [
      "split: dim 0, thresh 0.10, thresh ineqal: lt, the weighted error is 0.500\n",
      "split: dim 0, thresh 0.10, thresh ineqal: gt, the weighted error is 0.500\n",
      "split: dim 0, thresh 1.00, thresh ineqal: lt, the weighted error is 0.600\n",
      "split: dim 0, thresh 1.00, thresh ineqal: gt, the weighted error is 0.400\n",
      "split: dim 0, thresh 1.90, thresh ineqal: lt, the weighted error is 0.600\n",
      "split: dim 0, thresh 1.90, thresh ineqal: gt, the weighted error is 0.400\n",
      "split: dim 0, thresh 2.80, thresh ineqal: lt, the weighted error is 0.700\n",
      "split: dim 0, thresh 2.80, thresh ineqal: gt, the weighted error is 0.300\n",
      "split: dim 0, thresh 3.70, thresh ineqal: lt, the weighted error is 0.600\n",
      "split: dim 0, thresh 3.70, thresh ineqal: gt, the weighted error is 0.400\n",
      "split: dim 0, thresh 4.60, thresh ineqal: lt, the weighted error is 0.500\n",
      "split: dim 0, thresh 4.60, thresh ineqal: gt, the weighted error is 0.500\n",
      "split: dim 0, thresh 5.50, thresh ineqal: lt, the weighted error is 0.500\n",
      "split: dim 0, thresh 5.50, thresh ineqal: gt, the weighted error is 0.500\n",
      "split: dim 0, thresh 6.40, thresh ineqal: lt, the weighted error is 0.500\n",
      "split: dim 0, thresh 6.40, thresh ineqal: gt, the weighted error is 0.500\n",
      "split: dim 0, thresh 7.30, thresh ineqal: lt, the weighted error is 0.600\n",
      "split: dim 0, thresh 7.30, thresh ineqal: gt, the weighted error is 0.400\n",
      "split: dim 0, thresh 8.20, thresh ineqal: lt, the weighted error is 0.700\n",
      "split: dim 0, thresh 8.20, thresh ineqal: gt, the weighted error is 0.300\n",
      "split: dim 0, thresh 9.10, thresh ineqal: lt, the weighted error is 0.600\n",
      "split: dim 0, thresh 9.10, thresh ineqal: gt, the weighted error is 0.400\n",
      "split: dim 0, thresh 10.00, thresh ineqal: lt, the weighted error is 0.500\n",
      "split: dim 0, thresh 10.00, thresh ineqal: gt, the weighted error is 0.500\n",
      "split: dim 1, thresh 0.20, thresh ineqal: lt, the weighted error is 0.500\n",
      "split: dim 1, thresh 0.20, thresh ineqal: gt, the weighted error is 0.500\n",
      "split: dim 1, thresh 1.00, thresh ineqal: lt, the weighted error is 0.400\n",
      "split: dim 1, thresh 1.00, thresh ineqal: gt, the weighted error is 0.600\n",
      "split: dim 1, thresh 1.80, thresh ineqal: lt, the weighted error is 0.400\n",
      "split: dim 1, thresh 1.80, thresh ineqal: gt, the weighted error is 0.600\n",
      "split: dim 1, thresh 2.60, thresh ineqal: lt, the weighted error is 0.400\n",
      "split: dim 1, thresh 2.60, thresh ineqal: gt, the weighted error is 0.600\n",
      "split: dim 1, thresh 3.40, thresh ineqal: lt, the weighted error is 0.400\n",
      "split: dim 1, thresh 3.40, thresh ineqal: gt, the weighted error is 0.600\n",
      "split: dim 1, thresh 4.20, thresh ineqal: lt, the weighted error is 0.400\n",
      "split: dim 1, thresh 4.20, thresh ineqal: gt, the weighted error is 0.600\n",
      "split: dim 1, thresh 5.00, thresh ineqal: lt, the weighted error is 0.400\n",
      "split: dim 1, thresh 5.00, thresh ineqal: gt, the weighted error is 0.600\n",
      "split: dim 1, thresh 5.80, thresh ineqal: lt, the weighted error is 0.400\n",
      "split: dim 1, thresh 5.80, thresh ineqal: gt, the weighted error is 0.600\n",
      "split: dim 1, thresh 6.60, thresh ineqal: lt, the weighted error is 0.300\n",
      "split: dim 1, thresh 6.60, thresh ineqal: gt, the weighted error is 0.700\n",
      "split: dim 1, thresh 7.40, thresh ineqal: lt, the weighted error is 0.400\n",
      "split: dim 1, thresh 7.40, thresh ineqal: gt, the weighted error is 0.600\n",
      "split: dim 1, thresh 8.20, thresh ineqal: lt, the weighted error is 0.400\n",
      "split: dim 1, thresh 8.20, thresh ineqal: gt, the weighted error is 0.600\n",
      "split: dim 1, thresh 9.00, thresh ineqal: lt, the weighted error is 0.500\n",
      "split: dim 1, thresh 9.00, thresh ineqal: gt, the weighted error is 0.500\n"
     ]
    }
   ],
   "source": [
    "D = np.ones((10,1))/10\n",
    "bestStump,minError,bestClasEst = buildStump(dataArr,label,D)"
   ]
  },
  {
   "cell_type": "code",
   "execution_count": 130,
   "metadata": {},
   "outputs": [
    {
     "data": {
      "text/plain": [
       "array([[ True,  True, False, False,  True, False,  True,  True, False,\n",
       "        False],\n",
       "       [ True,  True, False, False,  True, False,  True,  True, False,\n",
       "        False],\n",
       "       [False, False,  True,  True, False,  True, False, False,  True,\n",
       "         True],\n",
       "       [False, False,  True,  True, False,  True, False, False,  True,\n",
       "         True],\n",
       "       [False, False,  True,  True, False,  True, False, False,  True,\n",
       "         True],\n",
       "       [False, False,  True,  True, False,  True, False, False,  True,\n",
       "         True],\n",
       "       [False, False,  True,  True, False,  True, False, False,  True,\n",
       "         True],\n",
       "       [False, False,  True,  True, False,  True, False, False,  True,\n",
       "         True],\n",
       "       [False, False,  True,  True, False,  True, False, False,  True,\n",
       "         True],\n",
       "       [False, False,  True,  True, False,  True, False, False,  True,\n",
       "         True]])"
      ]
     },
     "execution_count": 130,
     "metadata": {},
     "output_type": "execute_result"
    }
   ],
   "source": [
    "bestClasEst == label"
   ]
  },
  {
   "cell_type": "code",
   "execution_count": null,
   "metadata": {},
   "outputs": [],
   "source": []
  },
  {
   "cell_type": "code",
   "execution_count": null,
   "metadata": {},
   "outputs": [],
   "source": []
  }
 ],
 "metadata": {
  "kernelspec": {
   "display_name": "Python 2",
   "language": "python",
   "name": "python2"
  },
  "language_info": {
   "codemirror_mode": {
    "name": "ipython",
    "version": 2
   },
   "file_extension": ".py",
   "mimetype": "text/x-python",
   "name": "python",
   "nbconvert_exporter": "python",
   "pygments_lexer": "ipython2",
   "version": "2.7.15"
  }
 },
 "nbformat": 4,
 "nbformat_minor": 2
}
