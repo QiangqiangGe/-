{
 "cells": [
  {
   "cell_type": "code",
   "execution_count": 1,
   "metadata": {},
   "outputs": [],
   "source": [
    "import numpy as np \n",
    "import matplotlib.pyplot as plt"
   ]
  },
  {
   "cell_type": "code",
   "execution_count": 42,
   "metadata": {},
   "outputs": [],
   "source": [
    "dataArr =  np.array([[1,5],[2,2],[3,1],[4,6],[6,8],[6,5],[7,9],[8,7],[9,8],[10,2]])\n",
    "label = np.array([1,1,-1,-1,1,-1,1,1,-1,-1])\n"
   ]
  },
  {
   "cell_type": "code",
   "execution_count": 3,
   "metadata": {},
   "outputs": [
    {
     "data": {
      "image/png": "[encoded data removed]",
      "text/plain": [
       "<Figure size 1440x720 with 1 Axes>"
      ]
     },
     "metadata": {
      "needs_background": "light"
     },
     "output_type": "display_data"
    }
   ],
   "source": [
    "###绘制散点图\n",
    "plt.figure(figsize=(20,10))\n",
    "idx_1 = np.where(label==1)\n",
    "plt.scatter(dataArr[idx_1,0],dataArr[idx_1,1],c='red',marker='+',label='1',s=100) \n",
    "idx_2 = np.where(label==-1)\n",
    "plt.scatter(dataArr[idx_2,0],dataArr[idx_2,1],c='green',marker='o',label='-1',s=100)\n",
    "plt.xlabel('x1',fontsize=20)\n",
    "plt.ylabel('x2',fontsize=20)\n",
    "plt.tick_params(axis='both', which='major', labelsize=14)\n",
    "plt.legend(loc = 'upper right',prop={'size': 18})\n",
    "plt.show()"
   ]
  },
  {
   "cell_type": "code",
   "execution_count": 16,
   "metadata": {},
   "outputs": [],
   "source": [
    "def stumpClassify(dataArr,dimen,threshVal,threshIneq):\n",
    "    retArray = np.ones((np.shape(dataArr)[0],1))\n",
    "    if threshIneq == 'lt':\n",
    "        retArray[dataArr[:,dimen] <= threshVal] = -1.0\n",
    "    else:\n",
    "        retArray[dataArr[:,dimen] > threshVal] = -1.0\n",
    "    return retArray"
   ]
  },
  {
   "cell_type": "code",
   "execution_count": 54,
   "metadata": {},
   "outputs": [],
   "source": [
    "def buildStump(dataArr,label,D):\n",
    "    label = label.reshape(label.shape[0],1)\n",
    "    m,n = np.shape(dataArr)    ###m代表样本行数，n代表样本列数\n",
    "    numSteps = 10.0; bestStump = {}; bestClasEst = np.zeros((m,1))\n",
    "    minError = 99999999\n",
    "    ##两列\n",
    "    for i in range(n):\n",
    "        rangeMin = dataArr[:,i].min()\n",
    "        rangeMax = dataArr[:,i].max()\n",
    "        stepSize = (rangeMax-rangeMin)/numSteps  ##学习步长\n",
    "        ##步长\n",
    "        for j in range(-1,int(numSteps)+1):\n",
    "            ##大于或小于当前阈值\n",
    "            for temp in ['lt','gt']:\n",
    "                threshVal = (rangeMin + float(j) * stepSize)   ###遍历所有阈值\n",
    "                predictedVals = stumpClassify(dataArr,i,threshVal,temp)  ##计算阈值下的单层决策树结果\n",
    "                errArr = np.ones((m,1))\n",
    "                errArr[predictedVals == label] = 0  ##统计预测错误的样本\n",
    "                weightedError = sum(D * errArr)  ##统计分类错误的样本权重和\n",
    "                print \"split: dim %d, thresh %.2f, thresh ineqal: %s, the weighted error is %.3f\"%(i,threshVal,temp,weightedError)\n",
    "                if weightedError < minError:\n",
    "                    minError = weightedError\n",
    "                    bestClasEst = predictedVals.copy()\n",
    "                    bestStump['dim'] = i\n",
    "                    bestStump['thresh'] = threshVal\n",
    "                    bestStump['ineq'] = temp\n",
    "    return bestStump,minError,bestClasEst"
   ]
  },
  {
   "cell_type": "code",
   "execution_count": 55,
   "metadata": {},
   "outputs": [
    {
     "name": "stdout",
     "output_type": "stream",
     "text": [
      "split: dim 0, thresh 0.10, thresh ineqal: lt, the weighted error is 1.000\n",
      "split: dim 0, thresh 0.10, thresh ineqal: gt, the weighted error is 1.000\n",
      "split: dim 0, thresh 1.00, thresh ineqal: lt, the weighted error is 1.200\n",
      "split: dim 0, thresh 1.00, thresh ineqal: gt, the weighted error is 0.800\n",
      "split: dim 0, thresh 1.90, thresh ineqal: lt, the weighted error is 1.200\n",
      "split: dim 0, thresh 1.90, thresh ineqal: gt, the weighted error is 0.800\n",
      "split: dim 0, thresh 2.80, thresh ineqal: lt, the weighted error is 1.400\n",
      "split: dim 0, thresh 2.80, thresh ineqal: gt, the weighted error is 0.600\n",
      "split: dim 0, thresh 3.70, thresh ineqal: lt, the weighted error is 1.200\n",
      "split: dim 0, thresh 3.70, thresh ineqal: gt, the weighted error is 0.800\n",
      "split: dim 0, thresh 4.60, thresh ineqal: lt, the weighted error is 1.000\n",
      "split: dim 0, thresh 4.60, thresh ineqal: gt, the weighted error is 1.000\n",
      "split: dim 0, thresh 5.50, thresh ineqal: lt, the weighted error is 1.000\n",
      "split: dim 0, thresh 5.50, thresh ineqal: gt, the weighted error is 1.000\n",
      "split: dim 0, thresh 6.40, thresh ineqal: lt, the weighted error is 1.000\n",
      "split: dim 0, thresh 6.40, thresh ineqal: gt, the weighted error is 1.000\n",
      "split: dim 0, thresh 7.30, thresh ineqal: lt, the weighted error is 1.200\n",
      "split: dim 0, thresh 7.30, thresh ineqal: gt, the weighted error is 0.800\n",
      "split: dim 0, thresh 8.20, thresh ineqal: lt, the weighted error is 1.400\n",
      "split: dim 0, thresh 8.20, thresh ineqal: gt, the weighted error is 0.600\n",
      "split: dim 0, thresh 9.10, thresh ineqal: lt, the weighted error is 1.200\n",
      "split: dim 0, thresh 9.10, thresh ineqal: gt, the weighted error is 0.800\n",
      "split: dim 0, thresh 10.00, thresh ineqal: lt, the weighted error is 1.000\n",
      "split: dim 0, thresh 10.00, thresh ineqal: gt, the weighted error is 1.000\n",
      "split: dim 1, thresh 0.20, thresh ineqal: lt, the weighted error is 1.000\n",
      "split: dim 1, thresh 0.20, thresh ineqal: gt, the weighted error is 1.000\n",
      "split: dim 1, thresh 1.00, thresh ineqal: lt, the weighted error is 0.800\n",
      "split: dim 1, thresh 1.00, thresh ineqal: gt, the weighted error is 1.200\n",
      "split: dim 1, thresh 1.80, thresh ineqal: lt, the weighted error is 0.800\n",
      "split: dim 1, thresh 1.80, thresh ineqal: gt, the weighted error is 1.200\n",
      "split: dim 1, thresh 2.60, thresh ineqal: lt, the weighted error is 0.800\n",
      "split: dim 1, thresh 2.60, thresh ineqal: gt, the weighted error is 1.200\n",
      "split: dim 1, thresh 3.40, thresh ineqal: lt, the weighted error is 0.800\n",
      "split: dim 1, thresh 3.40, thresh ineqal: gt, the weighted error is 1.200\n",
      "split: dim 1, thresh 4.20, thresh ineqal: lt, the weighted error is 0.800\n",
      "split: dim 1, thresh 4.20, thresh ineqal: gt, the weighted error is 1.200\n",
      "split: dim 1, thresh 5.00, thresh ineqal: lt, the weighted error is 0.800\n",
      "split: dim 1, thresh 5.00, thresh ineqal: gt, the weighted error is 1.200\n",
      "split: dim 1, thresh 5.80, thresh ineqal: lt, the weighted error is 0.800\n",
      "split: dim 1, thresh 5.80, thresh ineqal: gt, the weighted error is 1.200\n",
      "split: dim 1, thresh 6.60, thresh ineqal: lt, the weighted error is 0.600\n",
      "split: dim 1, thresh 6.60, thresh ineqal: gt, the weighted error is 1.400\n",
      "split: dim 1, thresh 7.40, thresh ineqal: lt, the weighted error is 0.800\n",
      "split: dim 1, thresh 7.40, thresh ineqal: gt, the weighted error is 1.200\n",
      "split: dim 1, thresh 8.20, thresh ineqal: lt, the weighted error is 0.800\n",
      "split: dim 1, thresh 8.20, thresh ineqal: gt, the weighted error is 1.200\n",
      "split: dim 1, thresh 9.00, thresh ineqal: lt, the weighted error is 1.000\n",
      "split: dim 1, thresh 9.00, thresh ineqal: gt, the weighted error is 1.000\n"
     ]
    },
    {
     "data": {
      "text/plain": [
       "({'dim': 0, 'ineq': 'gt', 'thresh': 2.8}, array([0.6]), array([[ 1.],\n",
       "        [ 1.],\n",
       "        [-1.],\n",
       "        [-1.],\n",
       "        [-1.],\n",
       "        [-1.],\n",
       "        [-1.],\n",
       "        [-1.],\n",
       "        [-1.],\n",
       "        [-1.]]))"
      ]
     },
     "execution_count": 55,
     "metadata": {},
     "output_type": "execute_result"
    }
   ],
   "source": [
    "D = np.ones((10,1))/5\n",
    "buildStump(dataArr,label,D)"
   ]
  },
  {
   "cell_type": "code",
   "execution_count": null,
   "metadata": {},
   "outputs": [],
   "source": []
  }
 ],
 "metadata": {
  "kernelspec": {
   "display_name": "Python 2",
   "language": "python",
   "name": "python2"
  },
  "language_info": {
   "codemirror_mode": {
    "name": "ipython",
    "version": 2
   },
   "file_extension": ".py",
   "mimetype": "text/x-python",
   "name": "python",
   "nbconvert_exporter": "python",
   "pygments_lexer": "ipython2",
   "version": "2.7.15"
  }
 },
 "nbformat": 4,
 "nbformat_minor": 2
}
