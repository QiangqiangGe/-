{
 "cells": [
  {
   "cell_type": "code",
   "execution_count": 3,
   "metadata": {},
   "outputs": [],
   "source": [
    "import numpy as np "
   ]
  },
  {
   "cell_type": "code",
   "execution_count": 4,
   "metadata": {},
   "outputs": [],
   "source": [
    "##计算熵\n",
    "def calcShannon(dataSet):\n",
    "    nrows,ncols = np.shape(dataSet)\n",
    "    labelCounts = {}\n",
    "    for featVec in dataSet:\n",
    "        currentLabel = featVec[-1]\n",
    "        if currentLabel not in labelCounts.keys():\n",
    "            labelCounts[currentLabel] = 1\n",
    "        else:\n",
    "            labelCounts[currentLabel] += 1\n",
    "    shannon = 0.0\n",
    "    for key in labelCounts:\n",
    "        prob  = float(labelCounts[key])/nrows\n",
    "        shannon -= prob*np.log2(prob)\n",
    "    return  shannon  "
   ]
  },
  {
   "cell_type": "code",
   "execution_count": 21,
   "metadata": {},
   "outputs": [],
   "source": [
    "dataSet = np.array([[1,1,'yes'],\n",
    "                   [1,1,'yes'],\n",
    "                   [1,0,'no'],\n",
    "                   [0,1,'no'],\n",
    "                   [0,1,'no']])"
   ]
  },
  {
   "cell_type": "code",
   "execution_count": 61,
   "metadata": {},
   "outputs": [],
   "source": [
    "###划分数据集\n",
    "def splitDataSet(dataSet,axis,value):\n",
    "    retDataSet = []\n",
    "    for featVec in dataSet:\n",
    "        print type(featVec[axis])\n",
    "        if int(featVec[axis]) == value:\n",
    "            reducedFeatVec = list(featVec[:axis])\n",
    "            reducedFeatVec.extend(featVec[axis+1:])\n",
    "            retDataSet.append(reducedFeatVec)\n",
    "    return retDataSet"
   ]
  },
  {
   "cell_type": "code",
   "execution_count": 70,
   "metadata": {},
   "outputs": [
    {
     "data": {
      "text/plain": [
       "array([['1', 'yes'],\n",
       "       ['1', 'yes'],\n",
       "       ['0', 'no'],\n",
       "       ['1', 'no'],\n",
       "       ['1', 'no']], dtype='|S11')"
      ]
     },
     "execution_count": 70,
     "metadata": {},
     "output_type": "execute_result"
    }
   ],
   "source": [
    "np.append(dataSet[:,1:],dataSet[:,:0],axis=1)"
   ]
  },
  {
   "cell_type": "code",
   "execution_count": null,
   "metadata": {},
   "outputs": [],
   "source": []
  }
 ],
 "metadata": {
  "kernelspec": {
   "display_name": "Python 2",
   "language": "python",
   "name": "python2"
  },
  "language_info": {
   "codemirror_mode": {
    "name": "ipython",
    "version": 2
   },
   "file_extension": ".py",
   "mimetype": "text/x-python",
   "name": "python",
   "nbconvert_exporter": "python",
   "pygments_lexer": "ipython2",
   "version": "2.7.15"
  }
 },
 "nbformat": 4,
 "nbformat_minor": 2
}
